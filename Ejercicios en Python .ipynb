{
  "nbformat": 4,
  "nbformat_minor": 0,
  "metadata": {
    "colab": {
      "provenance": [],
      "toc_visible": true,
      "authorship_tag": "ABX9TyPIUsUk/qwYSKyu8/uuLbm/",
      "include_colab_link": true
    },
    "kernelspec": {
      "name": "python3",
      "display_name": "Python 3"
    },
    "language_info": {
      "name": "python"
    }
  },
  "cells": [
    {
      "cell_type": "markdown",
      "metadata": {
        "id": "view-in-github",
        "colab_type": "text"
      },
      "source": [
        "<a href=\"https://colab.research.google.com/github/Pedrmz/clase-IA-gpo007/blob/clase-IA/Ejercicios%20en%20Python%20.ipynb\" target=\"_parent\"><img src=\"https://colab.research.google.com/assets/colab-badge.svg\" alt=\"Open In Colab\"/></a>"
      ]
    },
    {
      "cell_type": "markdown",
      "source": [
        "IA_Ejercicio1_Pedo Eduardo Ramirez Reyna_1992263\n",
        "\n",
        "\n",
        "---\n",
        "\n",
        "\n",
        "N-1\n",
        "\n",
        "\n"
      ],
      "metadata": {
        "id": "TTmK6pwiFsTR"
      }
    },
    {
      "cell_type": "code",
      "source": [
        "nombre=input( \"ESCRIBA SU NOEMBRE:  \")\n",
        "if nombre==\"Ana\":\n",
        "  print(\"No puedo saludar\")\n",
        "elif nombre==\"Juan\":\n",
        "  print(\"No puedo saludar\")\n",
        "elif nombre==\"Pedro\":\n",
        "    print(\"No puedo saludar\")\n",
        "else:\n",
        "      print(\"Hola \"+nombre)\n"
      ],
      "metadata": {
        "colab": {
          "base_uri": "https://localhost:8080/"
        },
        "id": "V_8bR91GJXYw",
        "outputId": "441030c2-a2f3-4f77-e39c-ed055c6a8d4b"
      },
      "execution_count": null,
      "outputs": [
        {
          "output_type": "stream",
          "name": "stdout",
          "text": [
            "ESCRIBA SU NOEMBRE:  Pedro\n",
            "No puedo saludar\n"
          ]
        }
      ]
    },
    {
      "cell_type": "code",
      "source": [
        "from ast import Del\n",
        "\n",
        "list = [\"Elemento 1\",\"Elemento 2\", \"Elemento 3\", \"Elemento 4\", \"Elemento 5\", \"Elemento 6\" ]\n",
        "list.reverse()\n",
        "print(list)\n"
      ],
      "metadata": {
        "colab": {
          "base_uri": "https://localhost:8080/"
        },
        "id": "BEsy3vVaNDq-",
        "outputId": "9879cf96-3c73-4f1c-f41a-0cb78b32e886"
      },
      "execution_count": null,
      "outputs": [
        {
          "output_type": "stream",
          "name": "stdout",
          "text": [
            "['Elemento 6', 'Elemento 5', 'Elemento 4', 'Elemento 3', 'Elemento 2', 'Elemento 1']\n"
          ]
        }
      ]
    },
    {
      "cell_type": "code",
      "source": [
        "print(\"******\")\n",
        "lista = [\"* HOLA     *\" , \"* ESTE     *\" , \"* ES       *\", \"* EL       *\", \"* EJERCICIO*\" , \"* 3        *\"]\n",
        "for x in lista:\n",
        "  print(x)\n",
        "print(\"******\")"
      ],
      "metadata": {
        "colab": {
          "base_uri": "https://localhost:8080/"
        },
        "id": "W_s1kEJ5Q0kQ",
        "outputId": "6e87f25e-ca00-4c1d-ba2a-698cc86c4407"
      },
      "execution_count": null,
      "outputs": [
        {
          "output_type": "stream",
          "name": "stdout",
          "text": [
            "******\n",
            "* HOLA     *\n",
            "* ESTE     *\n",
            "* ES       *\n",
            "* EL       *\n",
            "* EJERCICIO*\n",
            "* 3        *\n",
            "******\n"
          ]
        }
      ]
    }
  ]
}